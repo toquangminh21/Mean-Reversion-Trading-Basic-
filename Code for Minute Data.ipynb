{
 "cells": [
  {
   "cell_type": "code",
   "execution_count": 2,
   "metadata": {},
   "outputs": [],
   "source": [
    "import pandas as pd\n",
    "from iexfinance.stocks import get_historical_data\n",
    "from iexfinance.stocks import get_historical_intraday\n",
    "from iexfinance.stocks import Stock\n",
    "from datetime import date\n",
    "from datetime import datetime, timedelta\n",
    "import numpy as np\n",
    "import matplotlib.pyplot as plt\n",
    "import yfinance as yf"
   ]
  },
  {
   "cell_type": "code",
   "execution_count": 3,
   "metadata": {},
   "outputs": [],
   "source": [
    "def create_dict(stocklist): \n",
    "    ''' Creates dictionary of a list of stocks\n",
    "    \n",
    "        :param stocklist: the list of stocks that you want to gather data for\n",
    "        :type stocklist: List of Strings\n",
    "        :returns: empty dictionary for each stock\n",
    "        :rtype: dictionary\n",
    "        \n",
    "    '''\n",
    "    stockdict = {}\n",
    "    for s in stocklist:\n",
    "        stockdict[s] = {}\n",
    "    return stockdict\n",
    "\n",
    "def data(stockdict, start_date, weeks):\n",
    "    ''' Gathers Minute data for each stock for each day within a span of x weeks\\\n",
    "        and compiles into dataframe to save into dictionary\n",
    "        \n",
    "        :param stockdict: a dictionary that has stock tickers as keys\n",
    "        :type stockdict: dictionary\n",
    "        :param start_date: start date of when to collect intraday data (90 day lookback period)\n",
    "        :type start_date: String\n",
    "        :param weeks: how many weeks ahead do you want to get intraday data for starting from start_date\n",
    "        :type weeks: int\n",
    "        :returns: dictionary with basic market metrics\n",
    "        :rtype: dictionary\n",
    "        \n",
    "    '''\n",
    "    t = \"pk_80254a25b98240389c6c03f7bae9c68a\"\n",
    "    global date\n",
    "    start = pd.to_datetime(start_date)\n",
    "    weekday = []\n",
    "    for i in range(7*weeks):\n",
    "        d = start + timedelta(days=i)\n",
    "        if d.weekday() < 5:            \n",
    "            weekday.append(d)\n",
    "    for s in stockdict.keys():\n",
    "        df = pd.DataFrame()\n",
    "        for d in weekday:\n",
    "            date = d\n",
    "            intra = get_historical_intraday(s, date, output_format='pandas', token = t)\n",
    "            frames = [df, intra]\n",
    "            df = pd.concat(frames)\n",
    "        df = df[['marketHigh','marketLow','marketAverage','marketVolume','marketOpen','marketClose']]\n",
    "        df = df.sort_index()\n",
    "        df = df.dropna()\n",
    "        data = df\n",
    "        stockdict[s]['data'] = data\n",
    "        stockdict[s]['open'] = data['marketOpen']\n",
    "        stockdict[s]['high'] = data['marketHigh']\n",
    "        stockdict[s]['low'] = data['marketLow']\n",
    "        stockdict[s]['close'] = data['marketClose']\n",
    "        stockdict[s]['volume'] = data['marketVolume']\n",
    "        data.to_csv(s + '.csv')\n",
    "    return stockdict   "
   ]
  },
  {
   "cell_type": "code",
   "execution_count": null,
   "metadata": {},
   "outputs": [],
   "source": []
  }
 ],
 "metadata": {
  "kernelspec": {
   "display_name": "Python 3",
   "language": "python",
   "name": "python3"
  },
  "language_info": {
   "codemirror_mode": {
    "name": "ipython",
    "version": 3
   },
   "file_extension": ".py",
   "mimetype": "text/x-python",
   "name": "python",
   "nbconvert_exporter": "python",
   "pygments_lexer": "ipython3",
   "version": "3.7.6"
  }
 },
 "nbformat": 4,
 "nbformat_minor": 4
}
