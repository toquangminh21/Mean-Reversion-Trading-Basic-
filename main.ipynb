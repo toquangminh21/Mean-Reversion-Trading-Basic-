{
 "cells": [
  {
   "cell_type": "code",
   "execution_count": 17,
   "metadata": {},
   "outputs": [],
   "source": [
    "#import the relevant modules\n",
    "import pandas as pd\n",
    "import numpy as np\n",
    "from pandas_datareader import data\n",
    "import requests\n",
    "from math import sqrt\n",
    "import matplotlib.pyplot as plt\n",
    "%matplotlib inline\n",
    "import dill"
   ]
  },
  {
   "cell_type": "markdown",
   "metadata": {},
   "source": [
    "# Mean Reversion Trading Strategy"
   ]
  },
  {
   "cell_type": "code",
   "execution_count": 6,
   "metadata": {},
   "outputs": [],
   "source": [
    "# Read in data\n",
    "stocks = pd.read_excel('Russell_3000_stock_list.xlsx', skiprows=range(0,7))\n",
    "\n",
    "# List of tickers\n",
    "stocks_list = stocks['Ticker'].tolist()"
   ]
  },
  {
   "cell_type": "markdown",
   "metadata": {},
   "source": [
    "# Trading logic and algorithm"
   ]
  },
  {
   "cell_type": "code",
   "execution_count": 7,
   "metadata": {},
   "outputs": [
    {
     "name": "stdout",
     "output_type": "stream",
     "text": [
      "No data fetched for symbol XTSLA using YahooDailyReader\n",
      "'Date'\n",
      "No data fetched for symbol WMB using YahooDailyReader\n",
      "No data fetched for symbol TDG using YahooDailyReader\n",
      "No data fetched for symbol FE using YahooDailyReader\n",
      "No data fetched for symbol SPG using YahooDailyReader\n",
      "No data fetched for symbol PPL using YahooDailyReader\n",
      "No data fetched for symbol KEYS using YahooDailyReader\n",
      "No data fetched for symbol FCX using YahooDailyReader\n",
      "No data fetched for symbol AMP using YahooDailyReader\n",
      "No data fetched for symbol AEE using YahooDailyReader\n",
      "No data fetched for symbol TTD using YahooDailyReader\n",
      "No data fetched for symbol AMCR using YahooDailyReader\n",
      "No data fetched for symbol RSG using YahooDailyReader\n",
      "No data fetched for symbol CDW using YahooDailyReader\n",
      "No data fetched for symbol MRNA using YahooDailyReader\n",
      "No data fetched for symbol PAYC using YahooDailyReader\n",
      "No data fetched for symbol DGX using YahooDailyReader\n",
      "No data fetched for symbol CBRE using YahooDailyReader\n",
      "No data fetched for symbol JKHY using YahooDailyReader\n",
      "No data fetched for symbol EVRG using YahooDailyReader\n",
      "No data fetched for symbol ETSY using YahooDailyReader\n",
      "No data fetched for symbol MAA using YahooDailyReader\n",
      "No data fetched for symbol SYF using YahooDailyReader\n",
      "No data fetched for symbol VIAC using YahooDailyReader\n",
      "No data fetched for symbol EXPD using YahooDailyReader\n",
      "No data fetched for symbol MKL using YahooDailyReader\n",
      "No data fetched for symbol OMC using YahooDailyReader\n",
      "No data fetched for symbol SIVB using YahooDailyReader\n",
      "No data fetched for symbol ELS using YahooDailyReader\n",
      "No data fetched for symbol UDR using YahooDailyReader\n",
      "No data fetched for symbol TDY using YahooDailyReader\n",
      "No data fetched for symbol NVR using YahooDailyReader\n",
      "No data fetched for symbol BIO using YahooDailyReader\n",
      "No data fetched for symbol KDP using YahooDailyReader\n",
      "No data fetched for symbol GWRE using YahooDailyReader\n",
      "No data fetched for symbol AYX using YahooDailyReader\n",
      "No data fetched for symbol WU using YahooDailyReader\n",
      "No data fetched for symbol RNR using YahooDailyReader\n",
      "No data fetched for symbol ELAN using YahooDailyReader\n",
      "No data fetched for symbol PTC using YahooDailyReader\n",
      "No data fetched for symbol LKQ using YahooDailyReader\n",
      "No data fetched for symbol WRB using YahooDailyReader\n",
      "No data fetched for symbol ALLY using YahooDailyReader\n",
      "No data fetched for symbol TXT using YahooDailyReader\n",
      "No data fetched for symbol WYNN using YahooDailyReader\n",
      "No data fetched for symbol AZPN using YahooDailyReader\n",
      "No data fetched for symbol HII using YahooDailyReader\n",
      "No data fetched for symbol NYT using YahooDailyReader\n",
      "No data fetched for symbol GH using YahooDailyReader\n",
      "No data fetched for symbol NVCR using YahooDailyReader\n",
      "No data fetched for symbol ACAD using YahooDailyReader\n",
      "No data fetched for symbol VOYA using YahooDailyReader\n",
      "No data fetched for symbol MSFUT using YahooDailyReader\n",
      "No data fetched for symbol GLOB using YahooDailyReader\n",
      "No data fetched for symbol JLL using YahooDailyReader\n",
      "No data fetched for symbol DBX using YahooDailyReader\n",
      "No data fetched for symbol CLGX using YahooDailyReader\n",
      "No data fetched for symbol PII using YahooDailyReader\n",
      "No data fetched for symbol STLD using YahooDailyReader\n",
      "No data fetched for symbol PB using YahooDailyReader\n",
      "No data fetched for symbol PLNT using YahooDailyReader\n",
      "No data fetched for symbol CMA using YahooDailyReader\n",
      "No data fetched for symbol REXR using YahooDailyReader\n",
      "No data fetched for symbol OSK using YahooDailyReader\n",
      "No data fetched for symbol NATI using YahooDailyReader\n",
      "No data fetched for symbol EVBG using YahooDailyReader\n",
      "No data fetched for symbol ACC using YahooDailyReader\n",
      "No data fetched for symbol LSTR using YahooDailyReader\n",
      "No data fetched for symbol ORI using YahooDailyReader\n",
      "No data fetched for symbol LM using YahooDailyReader\n",
      "No data fetched for symbol BL using YahooDailyReader\n",
      "No data fetched for symbol SAIC using YahooDailyReader\n",
      "No data fetched for symbol MIDD using YahooDailyReader\n",
      "No data fetched for symbol GPK using YahooDailyReader\n",
      "No data fetched for symbol NEOG using YahooDailyReader\n",
      "No data fetched for symbol OGS using YahooDailyReader\n",
      "No data fetched for symbol MSA using YahooDailyReader\n",
      "No data fetched for symbol NTNX using YahooDailyReader\n",
      "No data fetched for symbol IOVA using YahooDailyReader\n",
      "No data fetched for symbol SKX using YahooDailyReader\n",
      "No data fetched for symbol LAD using YahooDailyReader\n",
      "No data fetched for symbol AYI using YahooDailyReader\n",
      "No data fetched for symbol RBC using YahooDailyReader\n",
      "No data fetched for symbol CRUS using YahooDailyReader\n",
      "No data fetched for symbol PFGC using YahooDailyReader\n",
      "No data fetched for symbol NFG using YahooDailyReader\n",
      "No data fetched for symbol STMP using YahooDailyReader\n",
      "No data fetched for symbol FOXF using YahooDailyReader\n",
      "No data fetched for symbol GO using YahooDailyReader\n",
      "No data fetched for symbol KNSL using YahooDailyReader\n",
      "No data fetched for symbol OMCL using YahooDailyReader\n",
      "No data fetched for symbol BLKB using YahooDailyReader\n",
      "No data fetched for symbol XRX using YahooDailyReader\n",
      "No data fetched for symbol BHF using YahooDailyReader\n",
      "No data fetched for symbol TMHC using YahooDailyReader\n",
      "No data fetched for symbol ACIA using YahooDailyReader\n",
      "No data fetched for symbol FEYE using YahooDailyReader\n",
      "No data fetched for symbol CLDR using YahooDailyReader\n",
      "No data fetched for symbol INSP using YahooDailyReader\n",
      "No data fetched for symbol SAIL using YahooDailyReader\n",
      "No data fetched for symbol AGR using YahooDailyReader\n",
      "No data fetched for symbol HOMB using YahooDailyReader\n",
      "No data fetched for symbol CSOD using YahooDailyReader\n",
      "No data fetched for symbol CROX using YahooDailyReader\n",
      "No data fetched for symbol GPS using YahooDailyReader\n",
      "No data fetched for symbol MIC using YahooDailyReader\n",
      "No data fetched for symbol SXT using YahooDailyReader\n",
      "No data fetched for symbol NGVT using YahooDailyReader\n",
      "No data fetched for symbol VSAT using YahooDailyReader\n",
      "No data fetched for symbol AXSM using YahooDailyReader\n",
      "No data fetched for symbol ALLO using YahooDailyReader\n",
      "No data fetched for symbol NG using YahooDailyReader\n",
      "No data fetched for symbol AEL using YahooDailyReader\n",
      "No data fetched for symbol AIMC using YahooDailyReader\n",
      "No data fetched for symbol MUR using YahooDailyReader\n",
      "No data fetched for symbol WLK using YahooDailyReader\n",
      "No data fetched for symbol ATGE using YahooDailyReader\n",
      "No data fetched for symbol DORM using YahooDailyReader\n",
      "No data fetched for symbol BKU using YahooDailyReader\n",
      "No data fetched for symbol EPC using YahooDailyReader\n",
      "No data fetched for symbol SJW using YahooDailyReader\n",
      "No data fetched for symbol NWN using YahooDailyReader\n",
      "No data fetched for symbol CORT using YahooDailyReader\n",
      "No data fetched for symbol HWC using YahooDailyReader\n",
      "No data fetched for symbol NSA using YahooDailyReader\n",
      "No data fetched for symbol SBH using YahooDailyReader\n",
      "No data fetched for symbol SEM using YahooDailyReader\n",
      "No data fetched for symbol PEB using YahooDailyReader\n",
      "No data fetched for symbol CTRE using YahooDailyReader\n",
      "No data fetched for symbol YEXT using YahooDailyReader\n",
      "No data fetched for symbol CVLT using YahooDailyReader\n",
      "No data fetched for symbol SIX using YahooDailyReader\n",
      "No data fetched for symbol MTOR using YahooDailyReader\n",
      "No data fetched for symbol INOV using YahooDailyReader\n",
      "No data fetched for symbol WSFS using YahooDailyReader\n",
      "No data fetched for symbol OTTR using YahooDailyReader\n",
      "No data fetched for symbol DNLI using YahooDailyReader\n",
      "No data fetched for symbol CFFN using YahooDailyReader\n",
      "No data fetched for symbol KTOS using YahooDailyReader\n",
      "No data fetched for symbol MODN using YahooDailyReader\n",
      "No data fetched for symbol AQUA using YahooDailyReader\n",
      "No data fetched for symbol BCC using YahooDailyReader\n",
      "No data fetched for symbol LRN using YahooDailyReader\n",
      "No data fetched for symbol RNST using YahooDailyReader\n",
      "No data fetched for symbol SWAV using YahooDailyReader\n",
      "No data fetched for symbol SKY using YahooDailyReader\n",
      "No data fetched for symbol MGRC using YahooDailyReader\n",
      "No data fetched for symbol GNW using YahooDailyReader\n",
      "No data fetched for symbol BANR using YahooDailyReader\n",
      "No data fetched for symbol AX using YahooDailyReader\n",
      "No data fetched for symbol TOWN using YahooDailyReader\n"
     ]
    },
    {
     "name": "stdout",
     "output_type": "stream",
     "text": [
      "No data fetched for symbol SVC using YahooDailyReader\n",
      "No data fetched for symbol HCAT using YahooDailyReader\n",
      "No data fetched for symbol SGMS using YahooDailyReader\n",
      "No data fetched for symbol INVA using YahooDailyReader\n",
      "No data fetched for symbol GTY using YahooDailyReader\n",
      "No data fetched for symbol FSCT using YahooDailyReader\n",
      "No data fetched for symbol IGT using YahooDailyReader\n",
      "No data fetched for symbol LASR using YahooDailyReader\n",
      "No data fetched for symbol CYRX using YahooDailyReader\n",
      "No data fetched for symbol DNOW using YahooDailyReader\n",
      "No data fetched for symbol VBTX using YahooDailyReader\n",
      "No data fetched for symbol CHCT using YahooDailyReader\n",
      "No data fetched for symbol ALEC using YahooDailyReader\n",
      "No data fetched for symbol PRSC using YahooDailyReader\n",
      "No data fetched for symbol MRTN using YahooDailyReader\n",
      "No data fetched for symbol MLAB using YahooDailyReader\n",
      "No data fetched for symbol HCC using YahooDailyReader\n",
      "No data fetched for symbol AXL using YahooDailyReader\n",
      "No data fetched for symbol SYBT using YahooDailyReader\n",
      "No data fetched for symbol ECOL using YahooDailyReader\n",
      "No data fetched for symbol BGCP using YahooDailyReader\n",
      "No data fetched for symbol SEAS using YahooDailyReader\n",
      "No data fetched for symbol UPLD using YahooDailyReader\n",
      "No data fetched for symbol NRC using YahooDailyReader\n",
      "No data fetched for symbol PIPR using YahooDailyReader\n",
      "No data fetched for symbol IRET using YahooDailyReader\n",
      "No data fetched for symbol MRSN using YahooDailyReader\n",
      "No data fetched for symbol FDP using YahooDailyReader\n",
      "No data fetched for symbol PHR using YahooDailyReader\n",
      "No data fetched for symbol FCF using YahooDailyReader\n",
      "No data fetched for symbol TFSL using YahooDailyReader\n",
      "No data fetched for symbol SCHL using YahooDailyReader\n",
      "No data fetched for symbol OXM using YahooDailyReader\n",
      "No data fetched for symbol NBHC using YahooDailyReader\n",
      "No data fetched for symbol KRNY using YahooDailyReader\n",
      "No data fetched for symbol LGFB using YahooDailyReader\n",
      "No data fetched for symbol FWONA using YahooDailyReader\n",
      "No data fetched for symbol HFWA using YahooDailyReader\n",
      "No data fetched for symbol GABC using YahooDailyReader\n",
      "No data fetched for symbol NTUS using YahooDailyReader\n",
      "No data fetched for symbol TCMD using YahooDailyReader\n",
      "No data fetched for symbol AMRX using YahooDailyReader\n",
      "No data fetched for symbol TPIC using YahooDailyReader\n",
      "No data fetched for symbol PTEN using YahooDailyReader\n",
      "No data fetched for symbol RAVN using YahooDailyReader\n",
      "No data fetched for symbol BANF using YahooDailyReader\n",
      "No data fetched for symbol PETS using YahooDailyReader\n",
      "No data fetched for symbol EFSC using YahooDailyReader\n",
      "No data fetched for symbol MGY using YahooDailyReader\n",
      "No data fetched for symbol CWENA using YahooDailyReader\n",
      "No data fetched for symbol VNDA using YahooDailyReader\n",
      "No data fetched for symbol INN using YahooDailyReader\n",
      "No data fetched for symbol SKT using YahooDailyReader\n",
      "No data fetched for symbol MIK using YahooDailyReader\n",
      "No data fetched for symbol IVR using YahooDailyReader\n",
      "No data fetched for symbol PQG using YahooDailyReader\n",
      "No data fetched for symbol JOE using YahooDailyReader\n",
      "No data fetched for symbol QUOT using YahooDailyReader\n",
      "No data fetched for symbol AEGN using YahooDailyReader\n",
      "No data fetched for symbol CVI using YahooDailyReader\n",
      "No data fetched for symbol TBBK using YahooDailyReader\n",
      "No data fetched for symbol NXGN using YahooDailyReader\n",
      "No data fetched for symbol HMST using YahooDailyReader\n",
      "No data fetched for symbol KFRC using YahooDailyReader\n",
      "No data fetched for symbol TBI using YahooDailyReader\n",
      "No data fetched for symbol CRTX using YahooDailyReader\n",
      "No data fetched for symbol ASMB using YahooDailyReader\n",
      "No data fetched for symbol MRC using YahooDailyReader\n",
      "No data fetched for symbol SYRS using YahooDailyReader\n",
      "No data fetched for symbol KRA using YahooDailyReader\n",
      "No data fetched for symbol WMK using YahooDailyReader\n",
      "No data fetched for symbol THR using YahooDailyReader\n",
      "No data fetched for symbol EVH using YahooDailyReader\n",
      "No data fetched for symbol URGN using YahooDailyReader\n",
      "No data fetched for symbol ANAT using YahooDailyReader\n",
      "No data fetched for symbol CODX using YahooDailyReader\n",
      "No data fetched for symbol HLIT using YahooDailyReader\n",
      "No data fetched for symbol FIXX using YahooDailyReader\n",
      "No data fetched for symbol DBD using YahooDailyReader\n",
      "No data fetched for symbol CPRX using YahooDailyReader\n",
      "No data fetched for symbol HTBK using YahooDailyReader\n",
      "No data fetched for symbol DBI using YahooDailyReader\n",
      "No data fetched for symbol CNXN using YahooDailyReader\n",
      "No data fetched for symbol CPF using YahooDailyReader\n",
      "No data fetched for symbol LGFA using YahooDailyReader\n",
      "No data fetched for symbol HBNC using YahooDailyReader\n",
      "No data fetched for symbol ANGO using YahooDailyReader\n",
      "No data fetched for symbol AMK using YahooDailyReader\n",
      "No data fetched for symbol BOOM using YahooDailyReader\n",
      "No data fetched for symbol LXFR using YahooDailyReader\n",
      "No data fetched for symbol GPRE using YahooDailyReader\n",
      "No data fetched for symbol EIGI using YahooDailyReader\n",
      "No data fetched for symbol DCOM using YahooDailyReader\n",
      "No data fetched for symbol MTW using YahooDailyReader\n",
      "No data fetched for symbol FLXN using YahooDailyReader\n",
      "No data fetched for symbol MEET using YahooDailyReader\n",
      "No data fetched for symbol IGMS using YahooDailyReader\n",
      "No data fetched for symbol ACBI using YahooDailyReader\n",
      "No data fetched for symbol THFF using YahooDailyReader\n",
      "No data fetched for symbol LL using YahooDailyReader\n",
      "No data fetched for symbol AVD using YahooDailyReader\n",
      "No data fetched for symbol VMD using YahooDailyReader\n",
      "No data fetched for symbol AVXL using YahooDailyReader\n",
      "No data fetched for symbol RC using YahooDailyReader\n",
      "No data fetched for symbol FFG using YahooDailyReader\n",
      "No data fetched for symbol CDXC using YahooDailyReader\n",
      "No data fetched for symbol FSB using YahooDailyReader\n",
      "No data fetched for symbol LC using YahooDailyReader\n",
      "No data fetched for symbol LFVN using YahooDailyReader\n",
      "No data fetched for symbol LOB using YahooDailyReader\n",
      "No data fetched for symbol RST using YahooDailyReader\n",
      "No data fetched for symbol ALRS using YahooDailyReader\n",
      "No data fetched for symbol ECOM using YahooDailyReader\n",
      "No data fetched for symbol IBCP using YahooDailyReader\n",
      "No data fetched for symbol TCRR using YahooDailyReader\n",
      "No data fetched for symbol WTTR using YahooDailyReader\n",
      "No data fetched for symbol BCEL using YahooDailyReader\n",
      "No data fetched for symbol NBR using YahooDailyReader\n",
      "No data fetched for symbol OIS using YahooDailyReader\n",
      "No data fetched for symbol HAFC using YahooDailyReader\n",
      "No data fetched for symbol PFIS using YahooDailyReader\n",
      "No data fetched for symbol VPG using YahooDailyReader\n",
      "No data fetched for symbol MCBS using YahooDailyReader\n",
      "No data fetched for symbol ARTNA using YahooDailyReader\n",
      "No data fetched for symbol IMXI using YahooDailyReader\n",
      "No data fetched for symbol EGAN using YahooDailyReader\n",
      "No data fetched for symbol LMNR using YahooDailyReader\n",
      "No data fetched for symbol ERII using YahooDailyReader\n",
      "No data fetched for symbol STFC using YahooDailyReader\n",
      "No data fetched for symbol CNR using YahooDailyReader\n",
      "No data fetched for symbol AAOI using YahooDailyReader\n",
      "No data fetched for symbol FISI using YahooDailyReader\n",
      "No data fetched for symbol CPS using YahooDailyReader\n",
      "No data fetched for symbol DSSI using YahooDailyReader\n",
      "No data fetched for symbol NWFL using YahooDailyReader\n",
      "No data fetched for symbol OSBC using YahooDailyReader\n",
      "No data fetched for symbol PCSB using YahooDailyReader\n",
      "No data fetched for symbol LBC using YahooDailyReader\n",
      "No data fetched for symbol BWB using YahooDailyReader\n",
      "No data fetched for symbol ITI using YahooDailyReader\n",
      "No data fetched for symbol FMAO using YahooDailyReader\n",
      "No data fetched for symbol AMOT using YahooDailyReader\n",
      "No data fetched for symbol NCMI using YahooDailyReader\n",
      "No data fetched for symbol PKBK using YahooDailyReader\n",
      "No data fetched for symbol HIFS using YahooDailyReader\n",
      "No data fetched for symbol RVSB using YahooDailyReader\n",
      "No data fetched for symbol MCBC using YahooDailyReader\n",
      "No data fetched for symbol LNDC using YahooDailyReader\n",
      "No data fetched for symbol AXTI using YahooDailyReader\n",
      "No data fetched for symbol VRAY using YahooDailyReader\n"
     ]
    },
    {
     "name": "stdout",
     "output_type": "stream",
     "text": [
      "No data fetched for symbol FPRX using YahooDailyReader\n",
      "No data fetched for symbol UBFO using YahooDailyReader\n",
      "No data fetched for symbol GLRE using YahooDailyReader\n",
      "No data fetched for symbol FRGI using YahooDailyReader\n",
      "No data fetched for symbol MSON using YahooDailyReader\n",
      "No data fetched for symbol DHX using YahooDailyReader\n",
      "No data fetched for symbol ADMA using YahooDailyReader\n",
      "No data fetched for symbol RFL using YahooDailyReader\n",
      "No data fetched for symbol SMBK using YahooDailyReader\n",
      "No data fetched for symbol SIEN using YahooDailyReader\n",
      "No data fetched for symbol OPBK using YahooDailyReader\n",
      "No data fetched for symbol FGBI using YahooDailyReader\n",
      "No data fetched for symbol CNCE using YahooDailyReader\n",
      "No data fetched for symbol VIACA using YahooDailyReader\n",
      "No data fetched for symbol SFST using YahooDailyReader\n",
      "No data fetched for symbol MLP using YahooDailyReader\n",
      "No data fetched for symbol RRGB using YahooDailyReader\n",
      "No data fetched for symbol SHBI using YahooDailyReader\n",
      "No data fetched for symbol GHM using YahooDailyReader\n",
      "No data fetched for symbol LQDT using YahooDailyReader\n",
      "No data fetched for symbol KVHI using YahooDailyReader\n",
      "No data fetched for symbol CURO using YahooDailyReader\n",
      "No data fetched for symbol WOW using YahooDailyReader\n",
      "No data fetched for symbol IPI using YahooDailyReader\n",
      "No data fetched for symbol NATR using YahooDailyReader\n",
      "No data fetched for symbol ORRF using YahooDailyReader\n",
      "No data fetched for symbol GWRS using YahooDailyReader\n",
      "No data fetched for symbol LXRX using YahooDailyReader\n",
      "No data fetched for symbol MPX using YahooDailyReader\n",
      "No data fetched for symbol RYI using YahooDailyReader\n",
      "No data fetched for symbol MJCO using YahooDailyReader\n",
      "No data fetched for symbol EOLS using YahooDailyReader\n",
      "No data fetched for symbol GRIF using YahooDailyReader\n",
      "No data fetched for symbol CLAR using YahooDailyReader\n",
      "No data fetched for symbol GTXI using YahooDailyReader\n",
      "No data fetched for symbol -- using YahooDailyReader\n",
      "No data fetched for symbol -- using YahooDailyReader\n",
      "No data fetched for symbol RTYU0 using YahooDailyReader\n",
      "No data fetched for symbol ESU0 using YahooDailyReader\n",
      "No data fetched for symbol P5N994 using YahooDailyReader\n",
      "No data fetched for symbol CLMS using YahooDailyReader\n"
     ]
    }
   ],
   "source": [
    "# Create an empty list to hold our return series DataFrame for each stock\n",
    "frames = []\n",
    " \n",
    "# LONG Undervalued stocks:\n",
    "# Signal 1: if returns from previous day's low to today's open < 1 sd of rolling 90 day close-to-close returns (gapdown: indicates short-term downward trend)\n",
    "# Signal 2: open prices > rolling 20 day moving average (they have been moving down, now at the open they're moving up -> mean reversion is happening)\n",
    "\n",
    "# SHORT Overvalued stocks: exact opposite\n",
    "\n",
    "\n",
    "for stock in stocks_list:\n",
    "    \n",
    "    try:\n",
    " \n",
    "        # Download stock data from yahoofinance and place in a DataFrame\n",
    "        df = data.DataReader(stock, 'yahoo',start='1/1/2015')\n",
    "        \n",
    "        # Create a new column to hold our 90 day rolling stdev\n",
    "        df['Stdev'] = df['Close'].rolling(window=90).std()\n",
    "        \n",
    "        # Create a new column to hold our 20 day moving average\n",
    "        df['Moving Average'] = df['Close'].rolling(window=20).mean()\n",
    "        \n",
    "        # Buy: 1st signal\n",
    "        df['Buy1'] = (df['Open'] - df['Low'].shift(1)) < -df['Stdev'] \n",
    "        \n",
    "        # Buy: 2nd signal\n",
    "        df['Buy2'] = df['Open'] > df['Moving Average']\n",
    "        \n",
    "        # Column to indicate if buy\n",
    "        df['BUY'] = df['Buy1'] & df['Buy2']\n",
    "        \n",
    "        \n",
    "        # Sell: 1st signal\n",
    "        df['Sell1'] = (df['Open'] - df['High'].shift(1)) > df['Stdev'] \n",
    "        \n",
    "        # Sell: 2nd signal\n",
    "        df['Sell2'] = df['Open'] < df['Moving Average']\n",
    "        \n",
    "        # Column to indicate if sell\n",
    "        df['SELL'] = df['Sell1'] & df['Sell2']\n",
    "        \n",
    "        # Calculate daily % return series for stock\n",
    "        df['Pct Change'] = (df['Close'] - df['Open']) / df['Open']\n",
    "        \n",
    "        # Calculate the strategy's return series by using the daily stock returns mutliplied by 1 if we are long and -1 if we are short\n",
    "        df['Rets'] = np.where(df['BUY'],df['Pct Change'], 0)\n",
    "        df['Rets'] = np.where(df['SELL'],-df['Pct Change'], df['Rets'])\n",
    "        \n",
    "        # Append the strategy return series to our list\n",
    "        frames.append(df['Rets'])\n",
    "        \n",
    "        \n",
    "    except Exception as err:\n",
    "        print(err)"
   ]
  },
  {
   "cell_type": "code",
   "execution_count": 105,
   "metadata": {
    "scrolled": true
   },
   "outputs": [
    {
     "data": {
      "text/plain": [
       "<matplotlib.axes._subplots.AxesSubplot at 0x22c5e57d3d0>"
      ]
     },
     "execution_count": 105,
     "metadata": {},
     "output_type": "execute_result"
    },
    {
     "data": {
      "image/png": "[encoded data removed]",
      "text/plain": [
       "<Figure size 1440x864 with 1 Axes>"
      ]
     },
     "metadata": {
      "needs_background": "light"
     },
     "output_type": "display_data"
    }
   ],
   "source": [
    "# Concatenate the individual DataFrames held in our list- and do it along the column axis\n",
    "masterFrame = pd.concat(frames,axis=1)\n",
    " \n",
    "# Create a column to hold the sum of all the individual daily strategy returns\n",
    "masterFrame['Total'] = masterFrame.sum(axis=1)\n",
    "\n",
    "# Fill 'NaNs' with zeros to allow our \"count\" function below to work properly\n",
    "masterFrame.fillna(0,inplace=True)\n",
    "\n",
    "# Create a column that hold the count of the number of trades that were made each day\n",
    "# Minus one from it so that we dont count the \"Total\" column we added as a trade.\n",
    "masterFrame['Count'] = (masterFrame != 0).sum(axis=1) - 1\n",
    "\n",
    "# Create a column that divides the \"total\" strategy return each day by the number of stocks traded that day to get EQUALLY WEIGHTED RETURN.\n",
    "masterFrame['Return'] = masterFrame['Total'] / masterFrame['Count']\n",
    "\n",
    "# 5-year PnL plot\n",
    "masterFrame['Return'].dropna().cumsum().plot(grid=True, title='PNL plot', figsize=(20,12))"
   ]
  },
  {
   "cell_type": "code",
   "execution_count": 139,
   "metadata": {},
   "outputs": [
    {
     "data": {
      "text/plain": [
       "<matplotlib.axes._subplots.AxesSubplot at 0x22c673ed0d0>"
      ]
     },
     "execution_count": 139,
     "metadata": {},
     "output_type": "execute_result"
    },
    {
     "data": {
      "image/png": "[encoded data removed]",
      "text/plain": [
       "<Figure size 1728x1152 with 1 Axes>"
      ]
     },
     "metadata": {
      "needs_background": "light"
     },
     "output_type": "display_data"
    }
   ],
   "source": [
    "# Returns distribution plot\n",
    "return_df = masterFrame[masterFrame['Return'] != 0]\n",
    "return_df['Return'].plot.hist(bins=48, alpha=0.5, xticks=np.linspace(-0.35, 0.25, 25), yticks=np.linspace(0, 40, 41), grid=True, title='Distribution of returns', figsize=(24,16))"
   ]
  },
  {
   "cell_type": "code",
   "execution_count": 143,
   "metadata": {},
   "outputs": [
    {
     "name": "stdout",
     "output_type": "stream",
     "text": [
      "1.266290488750064\n",
      "0.2462493549287148\n"
     ]
    }
   ],
   "source": [
    "# Sharpe\n",
    "sharpe = (masterFrame['Return'].mean() *252) / (masterFrame['Return'].std() * (sqrt(252)))\n",
    "\n",
    "# Average annual return\n",
    "days = (masterFrame.index[-1] - masterFrame.index[0]).days\n",
    "annual = (masterFrame['Return'].dropna().cumsum()[-1]+1)**(365.0/days) - 1\n",
    "\n",
    "print(sharpe)\n",
    "print(annual)"
   ]
  },
  {
   "cell_type": "markdown",
   "metadata": {},
   "source": [
    "# Things to improve on:\n",
    "1) Entirely based on price, but I have been thinking I can add some volatility measures in it (MR when less vol, i.e when noise dies out)\n",
    "Right now, yahoofinance only has volume so I’ll play around with that, but if the IB API we’re gonna use have some other vol measures I’ll play with that too.\n",
    "2) All positions are entered as soon as market opens and liquidated when market closes. Better if trade can be done throughout the day\n",
    "3) Not accounted for transaction costs + short margin\n",
    "4) Not compatible with backtesting framework"
   ]
  },
  {
   "cell_type": "code",
   "execution_count": 144,
   "metadata": {},
   "outputs": [
    {
     "name": "stdout",
     "output_type": "stream",
     "text": [
      "Stored 'frames' (list)\n"
     ]
    }
   ],
   "source": [
    "# Save frames and masterFrame by pickling it\n",
    "%store frames\n",
    "masterFrame.to_pickle('masterFrame.pkl')\n",
    "dill.dump_session('main_v2.db')"
   ]
  },
  {
   "cell_type": "code",
   "execution_count": 4,
   "metadata": {},
   "outputs": [
    {
     "name": "stderr",
     "output_type": "stream",
     "text": [
      "C:\\Users\\16103\\AppData\\Local\\Programs\\Python\\Python38\\lib\\site-packages\\pandas_datareader\\compat\\__init__.py:7: FutureWarning: pandas.util.testing is deprecated. Use the functions in the public API at pandas.testing instead.\n",
      "  from pandas.util.testing import assert_frame_equal\n"
     ]
    }
   ],
   "source": [
    "import dill\n",
    "dill.load_session('main_v2.db')"
   ]
  },
  {
   "cell_type": "markdown",
   "metadata": {},
   "source": [
    "# Backtesting framework compatibility"
   ]
  },
  {
   "cell_type": "code",
   "execution_count": 33,
   "metadata": {},
   "outputs": [],
   "source": [
    "import Algo, Backtest"
   ]
  },
  {
   "cell_type": "code",
   "execution_count": 35,
   "metadata": {},
   "outputs": [
    {
     "name": "stdout",
     "output_type": "stream",
     "text": [
      "[*********************100%***********************]  1 of 1 completed\n"
     ]
    },
    {
     "ename": "TypeError",
     "evalue": "run_algo() takes 1 positional argument but 2 were given",
     "output_type": "error",
     "traceback": [
      "\u001b[1;31m---------------------------------------------------------------------------\u001b[0m",
      "\u001b[1;31mTypeError\u001b[0m                                 Traceback (most recent call last)",
      "\u001b[1;32m<ipython-input-35-c97f85ed1b48>\u001b[0m in \u001b[0;36m<module>\u001b[1;34m\u001b[0m\n\u001b[0;32m      2\u001b[0m     \u001b[0malgo\u001b[0m \u001b[1;33m=\u001b[0m \u001b[0mAlgo\u001b[0m\u001b[1;33m.\u001b[0m\u001b[0mMinhsAlgo\u001b[0m\u001b[1;33m(\u001b[0m\u001b[0mstock\u001b[0m\u001b[1;33m)\u001b[0m\u001b[1;33m\u001b[0m\u001b[1;33m\u001b[0m\u001b[0m\n\u001b[0;32m      3\u001b[0m     \u001b[0mback\u001b[0m \u001b[1;33m=\u001b[0m \u001b[0mBacktest\u001b[0m\u001b[1;33m.\u001b[0m\u001b[0mBacktest\u001b[0m\u001b[1;33m(\u001b[0m\u001b[0malgo\u001b[0m\u001b[1;33m,\u001b[0m \u001b[1;36m10000\u001b[0m\u001b[1;33m,\u001b[0m \u001b[1;36m5\u001b[0m\u001b[1;33m)\u001b[0m\u001b[1;33m\u001b[0m\u001b[1;33m\u001b[0m\u001b[0m\n\u001b[1;32m----> 4\u001b[1;33m     \u001b[0mback\u001b[0m\u001b[1;33m.\u001b[0m\u001b[0mrun_backtest\u001b[0m\u001b[1;33m(\u001b[0m\u001b[1;33m)\u001b[0m\u001b[1;33m\u001b[0m\u001b[1;33m\u001b[0m\u001b[0m\n\u001b[0m\u001b[0;32m      5\u001b[0m     \u001b[0mback\u001b[0m\u001b[1;33m.\u001b[0m\u001b[0mgenerate_report\u001b[0m\u001b[1;33m(\u001b[0m\u001b[1;33m)\u001b[0m\u001b[1;33m\u001b[0m\u001b[1;33m\u001b[0m\u001b[0m\n",
      "\u001b[1;32m~\\PycharmProjects\\MeanReversion\\Backtest.py\u001b[0m in \u001b[0;36mrun_backtest\u001b[1;34m(self, debug_filestring)\u001b[0m\n\u001b[0;32m     85\u001b[0m             \u001b[1;31m#> Execution of algorithm\u001b[0m\u001b[1;33m\u001b[0m\u001b[1;33m\u001b[0m\u001b[1;33m\u001b[0m\u001b[0m\n\u001b[0;32m     86\u001b[0m             \u001b[1;32mif\u001b[0m \u001b[0mdebug_filestring\u001b[0m \u001b[1;33m==\u001b[0m \u001b[1;32mNone\u001b[0m\u001b[1;33m:\u001b[0m\u001b[1;33m\u001b[0m\u001b[1;33m\u001b[0m\u001b[0m\n\u001b[1;32m---> 87\u001b[1;33m                 \u001b[0mself\u001b[0m\u001b[1;33m.\u001b[0m\u001b[0malgo\u001b[0m\u001b[1;33m.\u001b[0m\u001b[0mrun_algo\u001b[0m\u001b[1;33m(\u001b[0m\u001b[0mpd\u001b[0m\u001b[1;33m.\u001b[0m\u001b[0mTimestamp\u001b[0m\u001b[1;33m(\u001b[0m\u001b[0mcurTimestamp\u001b[0m\u001b[1;33m)\u001b[0m\u001b[1;33m)\u001b[0m\u001b[1;33m\u001b[0m\u001b[1;33m\u001b[0m\u001b[0m\n\u001b[0m\u001b[0;32m     88\u001b[0m                 \u001b[1;32mif\u001b[0m \u001b[0mself\u001b[0m\u001b[1;33m.\u001b[0m\u001b[0malgo\u001b[0m\u001b[1;33m.\u001b[0m\u001b[0mget_long\u001b[0m\u001b[1;33m(\u001b[0m\u001b[1;33m)\u001b[0m \u001b[1;32mand\u001b[0m \u001b[0mself\u001b[0m\u001b[1;33m.\u001b[0m\u001b[0malgo\u001b[0m\u001b[1;33m.\u001b[0m\u001b[0mget_short\u001b[0m\u001b[1;33m(\u001b[0m\u001b[1;33m)\u001b[0m\u001b[1;33m:\u001b[0m\u001b[1;33m\u001b[0m\u001b[1;33m\u001b[0m\u001b[0m\n\u001b[0;32m     89\u001b[0m                     \u001b[0mprint\u001b[0m\u001b[1;33m(\u001b[0m\u001b[0mpd\u001b[0m\u001b[1;33m.\u001b[0m\u001b[0mTimestamp\u001b[0m\u001b[1;33m(\u001b[0m\u001b[0mcurTimestamp\u001b[0m\u001b[1;33m)\u001b[0m\u001b[1;33m)\u001b[0m\u001b[1;33m\u001b[0m\u001b[1;33m\u001b[0m\u001b[0m\n",
      "\u001b[1;31mTypeError\u001b[0m: run_algo() takes 1 positional argument but 2 were given"
     ]
    }
   ],
   "source": [
    "for stock in stocks_list[:3]:\n",
    "    algo = Algo.MinhsAlgo(stock)\n",
    "    back = Backtest.Backtest(algo, 10000, 5)\n",
    "    back.run_backtest()\n",
    "    back.generate_report()\n"
   ]
  },
  {
   "cell_type": "code",
   "execution_count": null,
   "metadata": {},
   "outputs": [],
   "source": []
  }
 ],
 "metadata": {
  "kernelspec": {
   "display_name": "Python 3",
   "language": "python",
   "name": "python3"
  },
  "language_info": {
   "codemirror_mode": {
    "name": "ipython",
    "version": 3
   },
   "file_extension": ".py",
   "mimetype": "text/x-python",
   "name": "python",
   "nbconvert_exporter": "python",
   "pygments_lexer": "ipython3",
   "version": "3.8.2"
  }
 },
 "nbformat": 4,
 "nbformat_minor": 4
}
